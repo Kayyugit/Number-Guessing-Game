{
 "cells": [
  {
   "cell_type": "markdown",
   "id": "039b5984-692d-43f6-98ff-75ad440293dc",
   "metadata": {},
   "source": [
    "***This is a brief explanation of why I have made this notebook. If you want to jump right into the code explanation, feel free to scroll down to the next cell.***\r\n",
    "\r\n",
    "**Picture this**: you've just finished watching a tutorial on YouTube on how to create some sort of app, write a certain kind of code or even create a game. After you're done, you have lines of code. Sometimes, you may have hundreds of lines of code. Okay. What next? If you 're just like me, and have poor memory, I think  this notebook may be useful to you. I started writing notebooks to try and explain, to the best of my understanding, the code I write, those I watched a video on, from websites or anywhere I may have encountered them. I like when things are over explained or over simplifi. Ththis notebook is how I do that to help myself understand and remember how code may work. Either as a whole, or how certain chunks of code may work. This is in no way trying to help memorize code. Instead, I am simply trying to breakdown blocks of code to understand how they work and keep a record of it so that if I want treo use that same function or code, I know exactly what I need and how it will affect my work. \r\n",
    "\r\n",
    "I'm still learning everyday and can't guarantee that this will be perfect but that's okay because the goal is progress not perfection. Also, the structure  of how code works means that some code will not work as an entirely separate operation outside a whole. For example, def functions are essentially a single entity and splitting it into parts is going to break it. This sucks because I would love to break things down and explain but it is what it Some code may not be included in the notebooks at all because they cannot run in the Jupyter Notebook e.g. code that requires the Pygame module or may have some sort of display. is. I'll try my best to still explain. I hope this helps you as much as it has helped me."
   ]
  },
  {
   "cell_type": "markdown",
   "id": "6f0db960-fc4d-4ec0-b69f-ca164017ce4c",
   "metadata": {},
   "source": [
    "# Step 1: Import the random module\r\n",
    "The random module in Python is used in generating random numbers, making random selections, and shuffling data. It's quite useful where randomness is needed. In the context of this code, the random module will be used to randomly generate a number between 0 and 50.\r\n",
    "\r\n",
    "    import random"
   ]
  },
  {
   "cell_type": "markdown",
   "id": "ea239917-bde3-47f9-bc10-7c991e2c1238",
   "metadata": {},
   "source": [
    "# Step 2: Initialize Variables\n",
    "- **random_number**: This variable stores a randomly generated integer between 0 and 50, inclusive, using the **random.randint** function. This is going to be the number the user tries to guess. If you want the game to be more challenging, you can make the range larger.\n",
    "- **guesses**: This variable keeps track of how many guesses the user has left, starting at 10. Once again, if you want the game to be more or less challenging, you can increase or reduce this number.\n",
    "\n",
    "        random_number = random.randint(0, 50)\n",
    "        guesses = 10"
   ]
  },
  {
   "cell_type": "markdown",
   "id": "4886fa98-c61d-46a8-a428-ed5ef3851fdf",
   "metadata": {},
   "source": [
    "# Step 3: Print statements and Initialize Game\n",
    "Print statements to welcome the user and instructions on how the game works as well as separator lines for readability. A single input prompts the user to press **Enter** to initialize the game.\n",
    "\n",
    "    print(\"Welcome to this number guesser game!\")\n",
    "    print(\"....................................\")\n",
    "    print(\"Instructions📃 : Pick a number between 1-50.\\nTry to guess the secret number before you run out of guesses.\\nGood luck!\")\n",
    "    print(\"....................................\")\n",
    "    input(\"Press Enter to start!\")"
   ]
  },
  {
   "cell_type": "markdown",
   "id": "24b425c3-fdff-408c-b7f4-60f59346fc66",
   "metadata": {},
   "source": [
    "# Step 4: Start the Guessing Loop\n",
    "Using a **while** loop, the program will keep running as long as guesses is greater than 0. Inside the loop, the user is prompted to make a guess and store their input in the variable **user_guess**.\n",
    "\n",
    "    while guesses > 0:\n",
    "        user_guess = input('Make a guess: ')"
   ]
  },
  {
   "cell_type": "markdown",
   "id": "87cbbe28-c873-40a8-9b8b-5b9f97c3df2a",
   "metadata": {},
   "source": [
    "# Step 5: Validate the Input\n",
    "- Check if the input is a digit (i.e., a number). If it is, the program progresses as usual. If not, print a reminder to let the user know that they should enter a number.\n",
    "- Use **continue** to return to the beginning of the while loop. Since the user never got to  make a guess, the number of remaining guesses does not reduce.\n",
    "- If **user_guess** is greater than 50, the user is also prompted to enter a number less than 50. Once again, the code returns to the beginning of the **while** loop.\n",
    "\n",
    "        if user_guess.isdigit():\n",
    "            user_guess = int(user_guess)\n",
    "        else:\n",
    "            print('🚫Please type a number next time')\n",
    "            continue\n",
    "    \n",
    "        if user_guess > 50:\n",
    "            print('Please pick a number less than 50.')\n",
    "            continue"
   ]
  },
  {
   "cell_type": "markdown",
   "id": "505a0942-6a41-4d5d-91f2-7238550253a9",
   "metadata": {},
   "source": [
    "# Step 6: Reduce Number of Guesses by one\n",
    "If the user's guess is digit and less than 50, the game proceeds and guesses is reduced by one.\n",
    "\n",
    "    guesses -= 1"
   ]
  },
  {
   "cell_type": "markdown",
   "id": "7a8ed62d-e286-4ccd-8e1e-cea0318e75ee",
   "metadata": {},
   "source": [
    "# Step 7: Check the Guess\n",
    "- *Correct Guess*: If the user's guess matches the random number, print a success message, and break out of the loop.\n",
    "- *Above or Below*: If the guess is not correct and guesses are not exhausted, inform the user if their guess was too high or too low.\n",
    "- *Guesses Exhausted*: If the guesses reach 0 after this round, print a message to let the user know that they have run out of guesses. The code breaks out of the loop.\n",
    "- I added decorator print statement to make the code more readable. Also, added emojis to make it look more fun.\n",
    "\n",
    "        if user_guess == random_number:\n",
    "            print('You got it right!🎊')\n",
    "            break\n",
    "        elif user_guess > random_number:\n",
    "            print('You were above the number.⬆️')\n",
    "            print(\"You have\",guesses,\"guesses left\")\n",
    "            print(\"============================\")\n",
    "        else:\n",
    "            print('You were below the number.⬇️')\n",
    "            print(\"You have\",guesses,\"guesses left\")\n",
    "            print(\"============================\")\n",
    "    \n",
    "        if guesses == 0:\n",
    "            print(\"You ran out of guesses 0️⃣\")\n",
    "            print(\"Game Over 😔\")\n",
    "            break"
   ]
  },
  {
   "cell_type": "markdown",
   "id": "cd49dbe8-765c-4f00-84d4-86a2c99ec4f4",
   "metadata": {},
   "source": [
    "# Step 8: End of Game\n",
    "- If the user guesses the number correctly, print how many total guesses it took to guess the correct number. This helps provide feedback on the user's performance.\n",
    "- If the user runs out of guesses, the loop exits and the correct number is revealed.\n",
    "\n",
    "        if guesses > 0 and user_guess == random_number:\n",
    "        print('You got it in', 10 - guesses, 'guesses.')\n",
    "        else:\n",
    "            print('The number was', random_number)"
   ]
  },
  {
   "cell_type": "code",
   "execution_count": null,
   "id": "4d9b3d98-1df6-49ce-a474-91125b9617a2",
   "metadata": {},
   "outputs": [],
   "source": [
    "import random\n",
    "\n",
    "random_number = random.randint(0, 50)\n",
    "guesses = 10\n",
    "\n",
    "print(\"Welcome to this number guesser game!\")\n",
    "print(\"....................................\")\n",
    "print(\"Instructions📃 : Pick a number between 1-50.\\nTry to guess the secret number before you run out of guesses.\\nGood luck!\")\n",
    "print(\"....................................\")\n",
    "input(\"Press Enter to start!\")\n",
    "\n",
    "while guesses > 0:\n",
    "    user_guess = input('Make a guess: ')\n",
    "    \n",
    "    if user_guess.isdigit():\n",
    "        user_guess = int(user_guess)\n",
    "    else:\n",
    "        print('🚫Please type a number next time')\n",
    "        continue\n",
    "\n",
    "    if user_guess > 50:\n",
    "        print('Please pick a number less than 50.')\n",
    "        continue\n",
    "\n",
    "    guesses -= 1\n",
    "\n",
    "    if user_guess == random_number:\n",
    "        print('You got it right!🎊')\n",
    "        break\n",
    "    elif user_guess > random_number:\n",
    "        print('You were above the number.⬆️')\n",
    "        print(\"You have\",guesses,\"guesses left\")\n",
    "        print(\"============================\")\n",
    "    else:\n",
    "        print('You were below the number.⬇️')\n",
    "        print(\"You have\",guesses,\"guesses left\")\n",
    "        print(\"============================\")\n",
    "\n",
    "    if guesses == 0:\n",
    "        print(\"You ran out of guesses 0️⃣\")\n",
    "        print(\"Game Over 😔\")\n",
    "        break\n",
    "\n",
    "if guesses > 0 and user_guess == random_number:\n",
    "    print('You got it in', 10 - guesses, 'guesses.')\n",
    "else:\n",
    "    print('The number was', random_number)\n"
   ]
  }
 ],
 "metadata": {
  "kernelspec": {
   "display_name": "Python 3 (ipykernel)",
   "language": "python",
   "name": "python3"
  },
  "language_info": {
   "codemirror_mode": {
    "name": "ipython",
    "version": 3
   },
   "file_extension": ".py",
   "mimetype": "text/x-python",
   "name": "python",
   "nbconvert_exporter": "python",
   "pygments_lexer": "ipython3",
   "version": "3.11.7"
  }
 },
 "nbformat": 4,
 "nbformat_minor": 5
}
